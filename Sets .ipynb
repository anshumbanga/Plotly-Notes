{
 "cells": [
  {
   "cell_type": "markdown",
   "id": "9401023a",
   "metadata": {},
   "source": [
    "# sets\n",
    "\n",
    "Set is a data type in python used to store several items in a single variable. \n",
    "\n",
    "- Unordered \n",
    "- Mutable \n",
    "- No duplicacy \n",
    "- all types of data are accepted \n",
    "- Cannot change the values once entered"
   ]
  },
  {
   "cell_type": "code",
   "execution_count": 1,
   "id": "603a7eac",
   "metadata": {},
   "outputs": [],
   "source": [
    "myset = {'shruti',\"prince\",'arshdeep', 'arshdeep'}"
   ]
  },
  {
   "cell_type": "code",
   "execution_count": 2,
   "id": "f2ae4d3e",
   "metadata": {},
   "outputs": [
    {
     "data": {
      "text/plain": [
       "{'arshdeep', 'prince', 'shruti'}"
      ]
     },
     "execution_count": 2,
     "metadata": {},
     "output_type": "execute_result"
    }
   ],
   "source": [
    "myset"
   ]
  },
  {
   "cell_type": "code",
   "execution_count": 3,
   "id": "055ba8c5",
   "metadata": {},
   "outputs": [],
   "source": [
    "# you can add any data type in this \n",
    "\n",
    "my = {'shruti',\"prince\",'arshdeep', 'arshdeep',1.1,1,78}"
   ]
  },
  {
   "cell_type": "code",
   "execution_count": 4,
   "id": "c5e0f1e1",
   "metadata": {},
   "outputs": [
    {
     "data": {
      "text/plain": [
       "{1, 1.1, 78, 'arshdeep', 'prince', 'shruti'}"
      ]
     },
     "execution_count": 4,
     "metadata": {},
     "output_type": "execute_result"
    }
   ],
   "source": [
    "my"
   ]
  },
  {
   "cell_type": "code",
   "execution_count": 5,
   "id": "1cc6ad49",
   "metadata": {},
   "outputs": [],
   "source": [
    "a = {}"
   ]
  },
  {
   "cell_type": "code",
   "execution_count": 6,
   "id": "33c564bb",
   "metadata": {},
   "outputs": [
    {
     "data": {
      "text/plain": [
       "dict"
      ]
     },
     "execution_count": 6,
     "metadata": {},
     "output_type": "execute_result"
    }
   ],
   "source": [
    "type(a)"
   ]
  },
  {
   "cell_type": "code",
   "execution_count": 7,
   "id": "d4de5bf9",
   "metadata": {},
   "outputs": [],
   "source": [
    "a = set()"
   ]
  },
  {
   "cell_type": "code",
   "execution_count": 8,
   "id": "326646c7",
   "metadata": {},
   "outputs": [
    {
     "data": {
      "text/plain": [
       "set()"
      ]
     },
     "execution_count": 8,
     "metadata": {},
     "output_type": "execute_result"
    }
   ],
   "source": [
    "a"
   ]
  },
  {
   "cell_type": "code",
   "execution_count": 9,
   "id": "f0b1ed99",
   "metadata": {},
   "outputs": [
    {
     "data": {
      "text/plain": [
       "set"
      ]
     },
     "execution_count": 9,
     "metadata": {},
     "output_type": "execute_result"
    }
   ],
   "source": [
    "type(a)"
   ]
  },
  {
   "cell_type": "code",
   "execution_count": 17,
   "id": "d30218ed",
   "metadata": {},
   "outputs": [],
   "source": [
    "# typecasting is sets"
   ]
  },
  {
   "cell_type": "code",
   "execution_count": 10,
   "id": "66866c14",
   "metadata": {},
   "outputs": [],
   "source": [
    "a = [\"anshum\",'Shruti',\"prince\",'Arshdeep','Arshdeep']"
   ]
  },
  {
   "cell_type": "code",
   "execution_count": 11,
   "id": "d9dc58a6",
   "metadata": {},
   "outputs": [
    {
     "data": {
      "text/plain": [
       "['anshum', 'Shruti', 'prince', 'Arshdeep', 'Arshdeep']"
      ]
     },
     "execution_count": 11,
     "metadata": {},
     "output_type": "execute_result"
    }
   ],
   "source": [
    "a"
   ]
  },
  {
   "cell_type": "code",
   "execution_count": 14,
   "id": "7dfe8ead",
   "metadata": {},
   "outputs": [],
   "source": [
    "a= set(a)"
   ]
  },
  {
   "cell_type": "code",
   "execution_count": 15,
   "id": "414feb58",
   "metadata": {},
   "outputs": [
    {
     "data": {
      "text/plain": [
       "{'Arshdeep', 'Shruti', 'anshum', 'prince'}"
      ]
     },
     "execution_count": 15,
     "metadata": {},
     "output_type": "execute_result"
    }
   ],
   "source": [
    "a"
   ]
  },
  {
   "cell_type": "code",
   "execution_count": 16,
   "id": "79e81599",
   "metadata": {},
   "outputs": [
    {
     "data": {
      "text/plain": [
       "['anshum', 'Arshdeep', 'prince', 'Shruti']"
      ]
     },
     "execution_count": 16,
     "metadata": {},
     "output_type": "execute_result"
    }
   ],
   "source": [
    "list(a)"
   ]
  },
  {
   "cell_type": "code",
   "execution_count": 18,
   "id": "bf30c5e0",
   "metadata": {},
   "outputs": [],
   "source": [
    "# sets methods \n",
    "\n",
    "# add(): helps us in adding in element \n",
    "\n",
    "a.add(\"Kirti\")"
   ]
  },
  {
   "cell_type": "code",
   "execution_count": 19,
   "id": "b072e052",
   "metadata": {},
   "outputs": [
    {
     "data": {
      "text/plain": [
       "{'Arshdeep', 'Kirti', 'Shruti', 'anshum', 'prince'}"
      ]
     },
     "execution_count": 19,
     "metadata": {},
     "output_type": "execute_result"
    }
   ],
   "source": [
    "a"
   ]
  },
  {
   "cell_type": "code",
   "execution_count": 20,
   "id": "cc004b78",
   "metadata": {},
   "outputs": [],
   "source": [
    "# clear ()\n",
    "\n",
    "a.clear()"
   ]
  },
  {
   "cell_type": "code",
   "execution_count": 21,
   "id": "bec4c8cd",
   "metadata": {},
   "outputs": [
    {
     "data": {
      "text/plain": [
       "set()"
      ]
     },
     "execution_count": 21,
     "metadata": {},
     "output_type": "execute_result"
    }
   ],
   "source": [
    "a"
   ]
  },
  {
   "cell_type": "code",
   "execution_count": 63,
   "id": "cf8de7b6",
   "metadata": {},
   "outputs": [],
   "source": [
    "# union \n",
    "\n",
    "a = {'Anshum', 'Shruti', \"Arshdeep\"}\n",
    "b = {'Arshdeep', 'Prince'}"
   ]
  },
  {
   "cell_type": "code",
   "execution_count": 27,
   "id": "fa40e979",
   "metadata": {},
   "outputs": [
    {
     "data": {
      "text/plain": [
       "{'Anshum', 'Arshdeep', 'Prince', 'Shruti'}"
      ]
     },
     "execution_count": 27,
     "metadata": {},
     "output_type": "execute_result"
    }
   ],
   "source": [
    "a.union(b)"
   ]
  },
  {
   "cell_type": "code",
   "execution_count": 28,
   "id": "efd0424f",
   "metadata": {},
   "outputs": [
    {
     "data": {
      "text/plain": [
       "{'Anshum', 'Arshdeep', 'Shruti'}"
      ]
     },
     "execution_count": 28,
     "metadata": {},
     "output_type": "execute_result"
    }
   ],
   "source": [
    "a"
   ]
  },
  {
   "cell_type": "code",
   "execution_count": 30,
   "id": "498e35fc",
   "metadata": {},
   "outputs": [],
   "source": [
    "# update \n",
    "\n",
    "a.update(b)"
   ]
  },
  {
   "cell_type": "code",
   "execution_count": 31,
   "id": "e80f867a",
   "metadata": {},
   "outputs": [
    {
     "data": {
      "text/plain": [
       "{'Anshum', 'Arshdeep', 'Prince', 'Shruti'}"
      ]
     },
     "execution_count": 31,
     "metadata": {},
     "output_type": "execute_result"
    }
   ],
   "source": [
    "a"
   ]
  },
  {
   "cell_type": "code",
   "execution_count": 58,
   "id": "af2a2e54",
   "metadata": {},
   "outputs": [
    {
     "name": "stdout",
     "output_type": "stream",
     "text": [
      "{1, 4}\n",
      "{8, 5, 6, 7}\n"
     ]
    }
   ],
   "source": [
    "print(a)\n",
    "print(b)"
   ]
  },
  {
   "cell_type": "code",
   "execution_count": 64,
   "id": "95638408",
   "metadata": {},
   "outputs": [],
   "source": [
    "a.intersection_update(b)"
   ]
  },
  {
   "cell_type": "code",
   "execution_count": 65,
   "id": "0c5009e7",
   "metadata": {},
   "outputs": [
    {
     "data": {
      "text/plain": [
       "{'Arshdeep'}"
      ]
     },
     "execution_count": 65,
     "metadata": {},
     "output_type": "execute_result"
    }
   ],
   "source": [
    "a"
   ]
  },
  {
   "cell_type": "code",
   "execution_count": 40,
   "id": "68449cc1",
   "metadata": {},
   "outputs": [
    {
     "data": {
      "text/plain": [
       "False"
      ]
     },
     "execution_count": 40,
     "metadata": {},
     "output_type": "execute_result"
    }
   ],
   "source": [
    "not a"
   ]
  },
  {
   "cell_type": "code",
   "execution_count": 42,
   "id": "6a219e45",
   "metadata": {},
   "outputs": [],
   "source": [
    "# copy \n",
    "\n",
    "a= {1,2,3,4,5}"
   ]
  },
  {
   "cell_type": "code",
   "execution_count": 43,
   "id": "2473008e",
   "metadata": {},
   "outputs": [],
   "source": [
    "b= a.copy()"
   ]
  },
  {
   "cell_type": "code",
   "execution_count": 44,
   "id": "3b86a0fb",
   "metadata": {},
   "outputs": [
    {
     "data": {
      "text/plain": [
       "{1, 2, 3, 4, 5}"
      ]
     },
     "execution_count": 44,
     "metadata": {},
     "output_type": "execute_result"
    }
   ],
   "source": [
    "b"
   ]
  },
  {
   "cell_type": "code",
   "execution_count": 45,
   "id": "a35d2ceb",
   "metadata": {},
   "outputs": [],
   "source": [
    "# difference \n",
    "\n",
    "a = {1,2,3,4,5,6}\n",
    "b = {5,6,7,8}"
   ]
  },
  {
   "cell_type": "code",
   "execution_count": 46,
   "id": "c3e02d6d",
   "metadata": {},
   "outputs": [
    {
     "data": {
      "text/plain": [
       "{1, 2, 3, 4}"
      ]
     },
     "execution_count": 46,
     "metadata": {},
     "output_type": "execute_result"
    }
   ],
   "source": [
    "a-b"
   ]
  },
  {
   "cell_type": "code",
   "execution_count": 47,
   "id": "e1671234",
   "metadata": {},
   "outputs": [
    {
     "data": {
      "text/plain": [
       "{1, 2, 3, 4}"
      ]
     },
     "execution_count": 47,
     "metadata": {},
     "output_type": "execute_result"
    }
   ],
   "source": [
    "a.difference(b)"
   ]
  },
  {
   "cell_type": "code",
   "execution_count": 48,
   "id": "178c377c",
   "metadata": {},
   "outputs": [
    {
     "data": {
      "text/plain": [
       "{1, 2, 3, 4, 5, 6}"
      ]
     },
     "execution_count": 48,
     "metadata": {},
     "output_type": "execute_result"
    }
   ],
   "source": [
    "a"
   ]
  },
  {
   "cell_type": "code",
   "execution_count": 49,
   "id": "ef864d30",
   "metadata": {},
   "outputs": [],
   "source": [
    "# difference update \n",
    "\n",
    "a.difference_update(b)"
   ]
  },
  {
   "cell_type": "code",
   "execution_count": 50,
   "id": "c6743d30",
   "metadata": {},
   "outputs": [
    {
     "data": {
      "text/plain": [
       "{1, 2, 3, 4}"
      ]
     },
     "execution_count": 50,
     "metadata": {},
     "output_type": "execute_result"
    }
   ],
   "source": [
    "a"
   ]
  },
  {
   "cell_type": "code",
   "execution_count": 51,
   "id": "53a88866",
   "metadata": {},
   "outputs": [],
   "source": [
    "# discard \n",
    "\n",
    "a.discard(2)"
   ]
  },
  {
   "cell_type": "code",
   "execution_count": 52,
   "id": "1a569fec",
   "metadata": {},
   "outputs": [
    {
     "data": {
      "text/plain": [
       "{1, 3, 4}"
      ]
     },
     "execution_count": 52,
     "metadata": {},
     "output_type": "execute_result"
    }
   ],
   "source": [
    "a"
   ]
  },
  {
   "cell_type": "code",
   "execution_count": 53,
   "id": "631922cd",
   "metadata": {},
   "outputs": [],
   "source": [
    "a.discard(8)"
   ]
  },
  {
   "cell_type": "code",
   "execution_count": 54,
   "id": "f2db0242",
   "metadata": {},
   "outputs": [
    {
     "data": {
      "text/plain": [
       "{1, 3, 4}"
      ]
     },
     "execution_count": 54,
     "metadata": {},
     "output_type": "execute_result"
    }
   ],
   "source": [
    "a"
   ]
  },
  {
   "cell_type": "code",
   "execution_count": 55,
   "id": "a0b8a933",
   "metadata": {},
   "outputs": [],
   "source": [
    "# remove \n",
    "\n",
    "a.remove(3)"
   ]
  },
  {
   "cell_type": "code",
   "execution_count": 56,
   "id": "d38124aa",
   "metadata": {},
   "outputs": [
    {
     "data": {
      "text/plain": [
       "{1, 4}"
      ]
     },
     "execution_count": 56,
     "metadata": {},
     "output_type": "execute_result"
    }
   ],
   "source": [
    "a"
   ]
  },
  {
   "cell_type": "code",
   "execution_count": 57,
   "id": "6233670e",
   "metadata": {},
   "outputs": [
    {
     "ename": "KeyError",
     "evalue": "3",
     "output_type": "error",
     "traceback": [
      "\u001b[1;31m---------------------------------------------------------------------------\u001b[0m",
      "\u001b[1;31mKeyError\u001b[0m                                  Traceback (most recent call last)",
      "Cell \u001b[1;32mIn[57], line 1\u001b[0m\n\u001b[1;32m----> 1\u001b[0m a\u001b[38;5;241m.\u001b[39mremove(\u001b[38;5;241m3\u001b[39m)\n",
      "\u001b[1;31mKeyError\u001b[0m: 3"
     ]
    }
   ],
   "source": [
    "a.remove(3)"
   ]
  },
  {
   "cell_type": "code",
   "execution_count": 66,
   "id": "1c04e600",
   "metadata": {},
   "outputs": [],
   "source": [
    "a = {'Anshum',\"Shruti\",'Arshdeep'}\n",
    "b = {\"Arshdeep\",'Prince'}"
   ]
  },
  {
   "cell_type": "code",
   "execution_count": 67,
   "id": "b01abbdb",
   "metadata": {},
   "outputs": [
    {
     "data": {
      "text/plain": [
       "({'Anshum', 'Arshdeep', 'Shruti'}, {'Arshdeep', 'Prince'})"
      ]
     },
     "execution_count": 67,
     "metadata": {},
     "output_type": "execute_result"
    }
   ],
   "source": [
    "a,b"
   ]
  },
  {
   "cell_type": "code",
   "execution_count": 68,
   "id": "814a52d5",
   "metadata": {},
   "outputs": [
    {
     "data": {
      "text/plain": [
       "{'Arshdeep'}"
      ]
     },
     "execution_count": 68,
     "metadata": {},
     "output_type": "execute_result"
    }
   ],
   "source": [
    "a.intersection(b)"
   ]
  },
  {
   "cell_type": "code",
   "execution_count": 69,
   "id": "200bfe30",
   "metadata": {},
   "outputs": [
    {
     "data": {
      "text/plain": [
       "{'Anshum', 'Arshdeep', 'Shruti'}"
      ]
     },
     "execution_count": 69,
     "metadata": {},
     "output_type": "execute_result"
    }
   ],
   "source": [
    "a"
   ]
  },
  {
   "cell_type": "code",
   "execution_count": 70,
   "id": "d204f93d",
   "metadata": {},
   "outputs": [],
   "source": [
    "# intersection update \n",
    "\n",
    "a.intersection_update(b)"
   ]
  },
  {
   "cell_type": "code",
   "execution_count": 71,
   "id": "3dbbafde",
   "metadata": {},
   "outputs": [
    {
     "data": {
      "text/plain": [
       "{'Arshdeep'}"
      ]
     },
     "execution_count": 71,
     "metadata": {},
     "output_type": "execute_result"
    }
   ],
   "source": [
    "a"
   ]
  },
  {
   "cell_type": "code",
   "execution_count": 73,
   "id": "aaf28332",
   "metadata": {},
   "outputs": [
    {
     "data": {
      "text/plain": [
       "True"
      ]
     },
     "execution_count": 73,
     "metadata": {},
     "output_type": "execute_result"
    }
   ],
   "source": [
    "# issubset \n",
    "\n",
    "a = {\"Anshum\",\"Shruti\",\"Prince\",\"Arshdeep\"} #superset\n",
    "b = {\"Shruti\", \"Prince\"} #subset\n",
    "\n",
    "b.issubset(a)"
   ]
  },
  {
   "cell_type": "code",
   "execution_count": 74,
   "id": "5bed258b",
   "metadata": {},
   "outputs": [
    {
     "data": {
      "text/plain": [
       "({'Anshum', 'Arshdeep', 'Prince', 'Shruti'}, {'Prince', 'Shruti'})"
      ]
     },
     "execution_count": 74,
     "metadata": {},
     "output_type": "execute_result"
    }
   ],
   "source": [
    "# issuperset \n",
    "\n",
    "a,b"
   ]
  },
  {
   "cell_type": "code",
   "execution_count": 75,
   "id": "b698087e",
   "metadata": {},
   "outputs": [
    {
     "data": {
      "text/plain": [
       "True"
      ]
     },
     "execution_count": 75,
     "metadata": {},
     "output_type": "execute_result"
    }
   ],
   "source": [
    "a.issuperset(b)"
   ]
  },
  {
   "cell_type": "code",
   "execution_count": 76,
   "id": "778c680c",
   "metadata": {},
   "outputs": [
    {
     "data": {
      "text/plain": [
       "'Anshum'"
      ]
     },
     "execution_count": 76,
     "metadata": {},
     "output_type": "execute_result"
    }
   ],
   "source": [
    "# pop \n",
    "\n",
    "a.pop()"
   ]
  },
  {
   "cell_type": "code",
   "execution_count": 77,
   "id": "a879fc1c",
   "metadata": {},
   "outputs": [
    {
     "data": {
      "text/plain": [
       "{'Arshdeep', 'Prince', 'Shruti'}"
      ]
     },
     "execution_count": 77,
     "metadata": {},
     "output_type": "execute_result"
    }
   ],
   "source": [
    "a"
   ]
  },
  {
   "cell_type": "code",
   "execution_count": 78,
   "id": "791c3499",
   "metadata": {},
   "outputs": [
    {
     "data": {
      "text/plain": [
       "'Arshdeep'"
      ]
     },
     "execution_count": 78,
     "metadata": {},
     "output_type": "execute_result"
    }
   ],
   "source": [
    "a.pop()"
   ]
  },
  {
   "cell_type": "code",
   "execution_count": 79,
   "id": "7eda76bc",
   "metadata": {},
   "outputs": [],
   "source": [
    "# Python Dictionery \n",
    "\n",
    "thisdict = {\n",
    "    'brand':'Ford',\n",
    "    'model':'Mustang',\n",
    "    'year':1989\n",
    "}"
   ]
  },
  {
   "cell_type": "code",
   "execution_count": 80,
   "id": "695db785",
   "metadata": {},
   "outputs": [
    {
     "data": {
      "text/plain": [
       "{'brand': 'Ford', 'model': 'Mustang', 'year': 1989}"
      ]
     },
     "execution_count": 80,
     "metadata": {},
     "output_type": "execute_result"
    }
   ],
   "source": [
    "thisdict"
   ]
  },
  {
   "cell_type": "code",
   "execution_count": 84,
   "id": "78f08872",
   "metadata": {},
   "outputs": [],
   "source": [
    "thisdict = {\n",
    "    'brand':['Ford','BMW','Porche','Corvette','Nissan','Ferrari'],\n",
    "    'model':['Mustang','X2',911,'BU','GTR','SF90'],\n",
    "    'color':['Black','White','Yellow','Red','Blue','Red'],\n",
    "    'color':['Black','White','Yellow','Red','Blue','Red']\n",
    "}"
   ]
  },
  {
   "cell_type": "code",
   "execution_count": 86,
   "id": "c168038a",
   "metadata": {},
   "outputs": [
    {
     "name": "stdout",
     "output_type": "stream",
     "text": [
      "{'brand': ['Ford', 'BMW', 'Porche', 'Corvette', 'Nissan', 'Ferrari'], 'model': ['Mustang', 'X2', 911, 'BU', 'GTR', 'SF90'], 'color': ['Black', 'White', 'Yellow', 'Red', 'Blue', 'Red']}\n"
     ]
    }
   ],
   "source": [
    "print(thisdict)"
   ]
  },
  {
   "cell_type": "markdown",
   "id": "fcd047ad",
   "metadata": {},
   "source": [
    "# Dictionary \n",
    "\n",
    "- it is mutable \n",
    "- it ordered \n",
    "- no Duplicacy \n",
    "- it contains key: value pairs "
   ]
  },
  {
   "cell_type": "code",
   "execution_count": null,
   "id": "471485a1",
   "metadata": {},
   "outputs": [],
   "source": []
  }
 ],
 "metadata": {
  "kernelspec": {
   "display_name": "Python 3 (ipykernel)",
   "language": "python",
   "name": "python3"
  },
  "language_info": {
   "codemirror_mode": {
    "name": "ipython",
    "version": 3
   },
   "file_extension": ".py",
   "mimetype": "text/x-python",
   "name": "python",
   "nbconvert_exporter": "python",
   "pygments_lexer": "ipython3",
   "version": "3.11.4"
  }
 },
 "nbformat": 4,
 "nbformat_minor": 5
}
